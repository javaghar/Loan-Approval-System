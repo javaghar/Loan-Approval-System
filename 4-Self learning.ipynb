{
 "cells": [
  {
   "cell_type": "code",
   "execution_count": 1,
   "id": "6ff0c1b3",
   "metadata": {},
   "outputs": [],
   "source": [
    "import numpy as np\n",
    "import pandas as pd\n",
    "import plotly.express as px\n",
    "from sklearn.model_selection import GridSearchCV\n",
    "from sklearn.ensemble import RandomForestClassifier\n",
    "from sklearn.model_selection import train_test_split\n",
    "from sklearn.preprocessing import StandardScaler\n",
    "from sklearn.metrics import confusion_matrix, roc_auc_score"
   ]
  },
  {
   "cell_type": "code",
   "execution_count": 2,
   "id": "c98e4ccf",
   "metadata": {},
   "outputs": [
    {
     "name": "stdout",
     "output_type": "stream",
     "text": [
      "The file: data prep.csv\n",
      "(523, 13)\n"
     ]
    }
   ],
   "source": [
    "df1 = input(\"Enter the new data with prediction: \")\n",
    "print(f\"The file: {df1}\")\n",
    "df1 = pd.read_csv(df1)\n",
    "print(df1.shape)\n",
    "\n"
   ]
  },
  {
   "cell_type": "code",
   "execution_count": null,
   "id": "e46677ba",
   "metadata": {},
   "outputs": [
    {
     "data": {
      "text/plain": [
       "(1110, 13)"
      ]
     },
     "execution_count": 3,
     "metadata": {},
     "output_type": "execute_result"
    }
   ],
   "source": [
    "df2 = input(\"Enter the old data: \")  #Loan data.csv\n",
    "df2 = pd.read_csv(df2)\n",
    "df = pd.concat([df2,df1])\n",
    "\n",
    "\n",
    "jk=df.copy()\n",
    "df.shape\n"
   ]
  },
  {
   "cell_type": "code",
   "execution_count": 5,
   "id": "2ecb9ee2",
   "metadata": {},
   "outputs": [],
   "source": [
    "df['Loan_Status']=df['Loan_Status'].replace({'Y':1,'N':0}).astype(int)"
   ]
  },
  {
   "cell_type": "code",
   "execution_count": 6,
   "id": "dc7a1ac8",
   "metadata": {},
   "outputs": [],
   "source": [
    "for col in ['Gender', 'Married', 'Dependents', 'Self_Employed']:\n",
    "    df[col] = df[col].fillna(df[col].mode(dropna=True)[0])\n",
    "\n",
    "df['LoanAmount'] = df['LoanAmount'].fillna(df['LoanAmount'].median())\n",
    "df['Loan_Amount_Term']=df['Loan_Amount_Term'].fillna(df['Loan_Amount_Term'].mode(dropna=True)[0])\n",
    "df['Credit_History']=df['Credit_History'].fillna(df['Credit_History'].mode(dropna=True)[0])"
   ]
  },
  {
   "cell_type": "code",
   "execution_count": 7,
   "id": "bde9afc1",
   "metadata": {},
   "outputs": [],
   "source": [
    "df['Gender']=np.where(df['Gender'] == 'Male',1,0)\n",
    "df['Married']=np.where(df['Married'] == 'Yes',1,0 )\n",
    "df['Dependents']=df['Dependents'].replace('3+',3).astype(int)\n",
    "df['Education']=np.where(df['Education'] == 'Graduate',1,0)\n",
    "df['Self_Employed']=np.where(df['Self_Employed'] == 'Yes',1,0)\n",
    "df['Property_Area']=np.where(df['Property_Area'] == 'Urban',1,0)\n"
   ]
  },
  {
   "cell_type": "code",
   "execution_count": 8,
   "id": "0af0e77a",
   "metadata": {},
   "outputs": [],
   "source": [
    "# Calculate the IQR\n",
    "Q1 = df['ApplicantIncome'].quantile(0.25)\n",
    "Q3 = df['ApplicantIncome'].quantile(0.75)\n",
    "IQR = Q3 - Q1\n",
    "\n",
    "# Define the lower and upper bounds for outliers\n",
    "lower_bound = Q1 - 1.5 * IQR\n",
    "upper_bound = Q3 + 1.5 * IQR\n",
    "\n",
    "# Remove outliers\n",
    "df = df[(df['ApplicantIncome'] >= lower_bound) & (df['ApplicantIncome'] <= upper_bound)]"
   ]
  },
  {
   "cell_type": "code",
   "execution_count": 9,
   "id": "5f55e1a6",
   "metadata": {},
   "outputs": [],
   "source": [
    "# Calculate the IQR\n",
    "Q1 = df['CoapplicantIncome'].quantile(0.25)\n",
    "Q3 = df['CoapplicantIncome'].quantile(0.75)\n",
    "IQR = Q3 - Q1\n",
    "\n",
    "# Define the lower and upper bounds for outliers\n",
    "lower_bound = Q1 - 1.5 * IQR\n",
    "upper_bound = Q3 + 1.5 * IQR\n",
    "\n",
    "# Remove outliers\n",
    "df = df[(df['CoapplicantIncome'] >= lower_bound) & (df['CoapplicantIncome'] <= upper_bound)]"
   ]
  },
  {
   "cell_type": "code",
   "execution_count": 11,
   "id": "aa8d7c91",
   "metadata": {},
   "outputs": [],
   "source": [
    "y=df['Loan_Status']\n",
    "x=df[['Credit_History','ApplicantIncome','LoanAmount','CoapplicantIncome','Dependents','Loan_Amount_Term']]"
   ]
  },
  {
   "cell_type": "code",
   "execution_count": 12,
   "id": "46553c57",
   "metadata": {},
   "outputs": [
    {
     "name": "stdout",
     "output_type": "stream",
     "text": [
      "0.9521502518106932\n",
      "{'max_depth': 50, 'min_samples_leaf': 2, 'n_estimators': 50}\n"
     ]
    }
   ],
   "source": [
    "parameters = {\"max_depth\": [2,5,10,20,50],\n",
    "              \"min_samples_leaf\": [2,5,10,20,50],\n",
    "              \"n_estimators\": [2,5,10,20,50]}\n",
    "model = RandomForestClassifier(max_features='log2', random_state=0,class_weight=\"balanced\")\n",
    "grid_search = GridSearchCV(estimator=model, param_grid=parameters,cv=3, n_jobs=6)\n",
    "grid_search = grid_search.fit(x,y)\n",
    "print(grid_search.best_score_)\n",
    "print(grid_search.best_params_)\n",
    "\n"
   ]
  },
  {
   "cell_type": "code",
   "execution_count": 13,
   "id": "38b55f44",
   "metadata": {},
   "outputs": [],
   "source": [
    "md = grid_search.best_params_['max_depth']\n",
    "ml = grid_search.best_params_['min_samples_leaf']\n",
    "ne = grid_search.best_params_['n_estimators']"
   ]
  },
  {
   "cell_type": "code",
   "execution_count": 15,
   "id": "19fd3ebb",
   "metadata": {},
   "outputs": [],
   "source": [
    "from datetime import datetime\n",
    "gb = pd.DataFrame({'obs':[x.shape[0]], 'max_depth':[md], 'min_samples_leaf':[ml], 'n_estimators':[ne]}).T\n",
    "gb.to_csv('Loan_Model hyp '+datetime.today().strftime('%Y-%m-%d')+'.csv', header=None)"
   ]
  },
  {
   "cell_type": "code",
   "execution_count": 19,
   "id": "ae2ee3d9",
   "metadata": {},
   "outputs": [
    {
     "data": {
      "text/plain": [
       "['(S)Loan_Model rf2025-07-31.pkl']"
      ]
     },
     "execution_count": 19,
     "metadata": {},
     "output_type": "execute_result"
    }
   ],
   "source": [
    "import joblib\n",
    "model = RandomForestClassifier(max_depth=md, min_samples_leaf=ml, n_estimators=ne, \n",
    "                              max_features='log2', random_state=0,class_weight=\"balanced\")\n",
    "model.fit(x,y)\n",
    "joblib.dump(model,'(S)Loan_Model rf'+datetime.today().strftime('%Y-%m-%d')+'.pkl') "
   ]
  },
  {
   "cell_type": "code",
   "execution_count": 17,
   "id": "bb6794ae",
   "metadata": {},
   "outputs": [
    {
     "data": {
      "text/plain": [
       "(1110, 13)"
      ]
     },
     "execution_count": 17,
     "metadata": {},
     "output_type": "execute_result"
    }
   ],
   "source": [
    "jk.to_csv('Loan_Model data'+datetime.today().strftime('%Y-%m-%d')+'.csv', index=False)\n",
    "jk.shape"
   ]
  }
 ],
 "metadata": {
  "kernelspec": {
   "display_name": "Python 3",
   "language": "python",
   "name": "python3"
  },
  "language_info": {
   "codemirror_mode": {
    "name": "ipython",
    "version": 3
   },
   "file_extension": ".py",
   "mimetype": "text/x-python",
   "name": "python",
   "nbconvert_exporter": "python",
   "pygments_lexer": "ipython3",
   "version": "3.11.9"
  }
 },
 "nbformat": 4,
 "nbformat_minor": 5
}
