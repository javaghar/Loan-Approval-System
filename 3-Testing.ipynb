{
 "cells": [
  {
   "cell_type": "code",
   "execution_count": 11,
   "id": "e4424fa0",
   "metadata": {},
   "outputs": [],
   "source": [
    "import numpy as np\n",
    "import pandas as pd\n",
    "import plotly.express as px\n",
    "from sklearn.model_selection import GridSearchCV\n",
    "from sklearn.ensemble import RandomForestClassifier\n",
    "from sklearn.model_selection import train_test_split\n",
    "from sklearn.preprocessing import StandardScaler\n",
    "from sklearn.metrics import confusion_matrix, roc_auc_score"
   ]
  },
  {
   "cell_type": "markdown",
   "id": "4ed17bd2",
   "metadata": {},
   "source": [
    "- Test data "
   ]
  },
  {
   "cell_type": "code",
   "execution_count": 12,
   "id": "3fb98ee6",
   "metadata": {},
   "outputs": [],
   "source": [
    "df=pd.read_csv(\"Test data.csv\")"
   ]
  },
  {
   "cell_type": "markdown",
   "id": "a47cd006",
   "metadata": {},
   "source": [
    "- Data treatment"
   ]
  },
  {
   "cell_type": "code",
   "execution_count": 13,
   "id": "81ff0275",
   "metadata": {},
   "outputs": [],
   "source": [
    "for col in ['Gender', 'Married', 'Dependents', 'Self_Employed']:\n",
    "    df[col] = df[col].fillna(df[col].mode(dropna=True)[0])\n",
    "\n",
    "df['LoanAmount'] = df['LoanAmount'].fillna(df['LoanAmount'].median())\n",
    "df['Loan_Amount_Term']=df['Loan_Amount_Term'].fillna(df['Loan_Amount_Term'].mode(dropna=True)[0])\n",
    "df['Credit_History']=df['Credit_History'].fillna(df['Credit_History'].mode(dropna=True)[0])"
   ]
  },
  {
   "cell_type": "code",
   "execution_count": 14,
   "id": "fb5423d3",
   "metadata": {},
   "outputs": [],
   "source": [
    "df['Gender']=np.where(df['Gender'] == 'Male',1,0)\n",
    "df['Married']=np.where(df['Married'] == 'Yes',1,0 )\n",
    "df['Dependents']=df['Dependents'].replace('3+',3).astype(int)\n",
    "df['Education']=np.where(df['Education'] == 'Graduate',1,0)\n",
    "df['Self_Employed']=np.where(df['Self_Employed'] == 'Yes',1,0)\n",
    "df['Property_Area']=np.where(df['Property_Area'] == 'Urban',1,0)\n"
   ]
  },
  {
   "cell_type": "code",
   "execution_count": 15,
   "id": "28f230ec",
   "metadata": {},
   "outputs": [],
   "source": [
    "# Calculate the IQR\n",
    "Q1 = df['ApplicantIncome'].quantile(0.25)\n",
    "Q3 = df['ApplicantIncome'].quantile(0.75)\n",
    "IQR = Q3 - Q1\n",
    "\n",
    "# Define the lower and upper bounds for outliers\n",
    "lower_bound = Q1 - 1.5 * IQR\n",
    "upper_bound = Q3 + 1.5 * IQR\n",
    "\n",
    "# Remove outliers\n",
    "df = df[(df['ApplicantIncome'] >= lower_bound) & (df['ApplicantIncome'] <= upper_bound)]"
   ]
  },
  {
   "cell_type": "code",
   "execution_count": 16,
   "id": "2d3cde59",
   "metadata": {},
   "outputs": [],
   "source": [
    "# Calculate the IQR\n",
    "Q1 = df['CoapplicantIncome'].quantile(0.25)\n",
    "Q3 = df['CoapplicantIncome'].quantile(0.75)\n",
    "IQR = Q3 - Q1\n",
    "\n",
    "# Define the lower and upper bounds for outliers\n",
    "lower_bound = Q1 - 1.5 * IQR\n",
    "upper_bound = Q3 + 1.5 * IQR\n",
    "\n",
    "# Remove outliers\n",
    "df = df[(df['CoapplicantIncome'] >= lower_bound) & (df['CoapplicantIncome'] <= upper_bound)]"
   ]
  },
  {
   "cell_type": "code",
   "execution_count": 17,
   "id": "6077ec68",
   "metadata": {},
   "outputs": [
    {
     "name": "stderr",
     "output_type": "stream",
     "text": [
      "C:\\Users\\Asus\\AppData\\Local\\Temp\\ipykernel_2504\\1664917649.py:1: FutureWarning: Downcasting behavior in `replace` is deprecated and will be removed in a future version. To retain the old behavior, explicitly call `result.infer_objects(copy=False)`. To opt-in to the future behavior, set `pd.set_option('future.no_silent_downcasting', True)`\n",
      "  df['Loan_Status']=df['Loan_Status'].replace({'Y':1,'N':0}).astype(int)\n"
     ]
    }
   ],
   "source": [
    "df['Loan_Status']=df['Loan_Status'].replace({'Y':1,'N':0}).astype(int)"
   ]
  },
  {
   "cell_type": "code",
   "execution_count": 18,
   "id": "5e8aeb2a",
   "metadata": {},
   "outputs": [],
   "source": [
    "x=df[['Credit_History','ApplicantIncome','LoanAmount','CoapplicantIncome','Dependents','Loan_Amount_Term']]"
   ]
  },
  {
   "cell_type": "code",
   "execution_count": 19,
   "id": "cc353565",
   "metadata": {},
   "outputs": [
    {
     "name": "stdout",
     "output_type": "stream",
     "text": [
      "Loan_Model rf 2025-07-31.pkl\n",
      "RandomForestClassifier(random_state=0)\n"
     ]
    }
   ],
   "source": [
    "\n",
    "import joblib\n",
    "model = \"Loan_Model rf 2025-07-31.pkl\"\n",
    "print(model)\n",
    "model = joblib.load(model)\n",
    "print(model)\n"
   ]
  },
  {
   "cell_type": "code",
   "execution_count": 20,
   "id": "fff45c3f",
   "metadata": {},
   "outputs": [],
   "source": [
    "pred = []\n",
    "pred = model.predict(x)"
   ]
  },
  {
   "cell_type": "code",
   "execution_count": 21,
   "id": "9b405323",
   "metadata": {},
   "outputs": [
    {
     "data": {
      "text/plain": [
       "array(['Y', 'Y', 'Y', 'Y', 'Y', 'Y', 'Y', 'N', 'Y', 'Y', 'Y', 'Y', 'Y',\n",
       "       'Y', 'Y', 'N', 'Y', 'Y', 'N', 'Y', 'N', 'N', 'Y', 'Y', 'Y', 'Y',\n",
       "       'N', 'Y', 'Y', 'N', 'N', 'Y', 'Y', 'Y', 'Y', 'Y', 'N', 'Y', 'Y',\n",
       "       'Y', 'Y', 'Y', 'Y', 'Y', 'N'], dtype='<U1')"
      ]
     },
     "execution_count": 21,
     "metadata": {},
     "output_type": "execute_result"
    }
   ],
   "source": [
    "pred1=pred\n",
    "pred1=np.where(pred1 == 1,'Y','N')\n",
    "pred1\n"
   ]
  },
  {
   "cell_type": "code",
   "execution_count": 22,
   "id": "0c05756f",
   "metadata": {},
   "outputs": [],
   "source": [
    "y=df['Loan_Status']"
   ]
  },
  {
   "cell_type": "code",
   "execution_count": 23,
   "id": "d08bb897",
   "metadata": {},
   "outputs": [],
   "source": [
    "proba=model.predict_proba(x)"
   ]
  },
  {
   "cell_type": "code",
   "execution_count": 24,
   "id": "a0ad5113",
   "metadata": {},
   "outputs": [
    {
     "name": "stdout",
     "output_type": "stream",
     "text": [
      "Accuracy: 0.9111111111111111\n",
      "Precision: 0.8857142857142857\n",
      "Recall: 1.0\n",
      "F1 Score: 0.9393939393939394\n",
      "Confusion Matrix:\n",
      " [[10  4]\n",
      " [ 0 31]]\n",
      "\n",
      "Classification Report:\n",
      "               precision    recall  f1-score   support\n",
      "\n",
      "           0       1.00      0.71      0.83        14\n",
      "           1       0.89      1.00      0.94        31\n",
      "\n",
      "    accuracy                           0.91        45\n",
      "   macro avg       0.94      0.86      0.89        45\n",
      "weighted avg       0.92      0.91      0.91        45\n",
      "\n"
     ]
    }
   ],
   "source": [
    "from sklearn.metrics import accuracy_score, precision_score, recall_score, f1_score, confusion_matrix, classification_report\n",
    "\n",
    "print(\"Accuracy:\", accuracy_score(y, pred))\n",
    "print(\"Precision:\", precision_score(y, pred))\n",
    "print(\"Recall:\", recall_score(y, pred))\n",
    "print(\"F1 Score:\", f1_score(y, pred))\n",
    "print(\"Confusion Matrix:\\n\", confusion_matrix(y, pred))\n",
    "print(\"\\nClassification Report:\\n\", classification_report(y, pred))"
   ]
  }
 ],
 "metadata": {
  "kernelspec": {
   "display_name": "Python 3",
   "language": "python",
   "name": "python3"
  },
  "language_info": {
   "codemirror_mode": {
    "name": "ipython",
    "version": 3
   },
   "file_extension": ".py",
   "mimetype": "text/x-python",
   "name": "python",
   "nbconvert_exporter": "python",
   "pygments_lexer": "ipython3",
   "version": "3.11.9"
  }
 },
 "nbformat": 4,
 "nbformat_minor": 5
}
